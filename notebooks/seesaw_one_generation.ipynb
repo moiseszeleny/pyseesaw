{
 "cells": [
  {
   "cell_type": "code",
   "execution_count": 1,
   "id": "b9eea2c2",
   "metadata": {},
   "outputs": [
    {
     "name": "stdout",
     "output_type": "stream",
     "text": [
      "Successfully loaded SymbolicSeesawTypeI!\n",
      "Available methods: ['MConjugateMT', 'MDaggerM', 'charpoly_relations', 'evaluate_numerically', 'full_mass_matrix_symbolic', 'left_eigenvectors', 'light_mass_matrix_symbolic', 'neutrino_mass_differences_dummyes', 'perturbative_expansion', 'right_eigenvectors', 'scaling_analysis', 'set_texture', 'simplified_2x2_case']\n"
     ]
    }
   ],
   "source": [
    "import sys\n",
    "import os\n",
    "import numpy as np\n",
    "import sympy as sp\n",
    "\n",
    "# Add the parent directory and src directory to Python path\n",
    "project_root = os.path.dirname(os.getcwd())\n",
    "src_path = os.path.join(project_root, 'src')\n",
    "sys.path.insert(0, project_root)\n",
    "sys.path.insert(0, src_path)\n",
    "\n",
    "# First import matrix_utils to make it available for seesaw module\n",
    "#import matrix_utils\n",
    "\n",
    "# Now we need to temporarily fix the import issue by importing functions into global namespace\n",
    "from matrix_utils import (diagonalize_mass_matrix, mass_squared_differences,\n",
    "                          create_symbolic_matrix, seesaw_approximation_symbolic,\n",
    "                          substitute_numerical_values, symbolic_rotation_matrix,\n",
    "                          sin_cos_from_tan_fraction)\n",
    "\n",
    "# Add these to matrix_utils module namespace to satisfy relative imports\n",
    "sys.modules['matrix_utils'].diagonalize_mass_matrix = diagonalize_mass_matrix\n",
    "sys.modules['matrix_utils'].mass_squared_differences = mass_squared_differences\n",
    "sys.modules['matrix_utils'].create_symbolic_matrix = create_symbolic_matrix\n",
    "sys.modules['matrix_utils'].seesaw_approximation_symbolic = seesaw_approximation_symbolic\n",
    "sys.modules['matrix_utils'].substitute_numerical_values = substitute_numerical_values\n",
    "sys.modules['matrix_utils'].symbolic_rotation_matrix = symbolic_rotation_matrix\n",
    "sys.modules['matrix_utils'].sin_cos_from_tan_fraction = sin_cos_from_tan_fraction\n",
    "\n",
    "# Now import seesaw with absolute imports instead of relative\n",
    "exec(open(os.path.join(src_path, 'seesaw.py')).read().replace('from .matrix_utils import', 'from matrix_utils import'))\n",
    "\n",
    "print(\"Successfully loaded SymbolicSeesawTypeI!\")\n",
    "print(f\"Available methods: {[method for method in dir(SymbolicSeesawTypeI) if not method.startswith('_')]}\")"
   ]
  },
  {
   "cell_type": "markdown",
   "id": "90c80365",
   "metadata": {},
   "source": [
    "# One generation of each neutrino case"
   ]
  },
  {
   "cell_type": "code",
   "execution_count": 2,
   "id": "2977178c",
   "metadata": {},
   "outputs": [],
   "source": [
    "from sympy import init_printing, symbols, solve, sin, cos, factor, Matrix, conjugate, I, sqrt, tan, Dummy\n",
    "from sympy.physics.quantum import Dagger\n",
    "init_printing()"
   ]
  },
  {
   "cell_type": "code",
   "execution_count": 3,
   "id": "c3d1db38",
   "metadata": {},
   "outputs": [
    {
     "data": {
      "text/plain": [
       "SymbolicSeesawTypeI(n_generations=1, n_sterile=1)"
      ]
     },
     "execution_count": 3,
     "metadata": {},
     "output_type": "execute_result"
    }
   ],
   "source": [
    "seesaw = SymbolicSeesawTypeI(n_generations=1, n_sterile=1)\n",
    "seesaw"
   ]
  },
  {
   "cell_type": "code",
   "execution_count": 4,
   "id": "7e75ea9b",
   "metadata": {},
   "outputs": [
    {
     "data": {
      "image/png": "[encoded data removed]",
      "text/latex": [
       "$\\displaystyle \\left[\\begin{matrix}0 & m_{D 11}\\\\m_{D 11} & M_{R 11}\\end{matrix}\\right]$"
      ],
      "text/plain": [
       "⎡  0     m_D_11⎤\n",
       "⎢              ⎥\n",
       "⎣m_D_11  M_R_11⎦"
      ]
     },
     "execution_count": 4,
     "metadata": {},
     "output_type": "execute_result"
    }
   ],
   "source": [
    "Mnu2x2 = seesaw.full_mass_matrix_symbolic()\n",
    "Mnu2x2"
   ]
  },
  {
   "cell_type": "code",
   "execution_count": 5,
   "id": "cff2b58b",
   "metadata": {},
   "outputs": [],
   "source": [
    "charpoly_relations = seesaw.charpoly_relations()"
   ]
  },
  {
   "cell_type": "code",
   "execution_count": 6,
   "id": "696b3fd1",
   "metadata": {},
   "outputs": [
    {
     "data": {
      "image/png": "[encoded data removed]",
      "text/latex": [
       "$\\displaystyle - M_{R 11} \\lambda + \\lambda^{2} - m_{D 11}^{2}$"
      ],
      "text/plain": [
       "             2         2\n",
       "-M_R_11⋅λ + λ  - m_D_11 "
      ]
     },
     "execution_count": 6,
     "metadata": {},
     "output_type": "execute_result"
    }
   ],
   "source": [
    "charpoly_relations['char_poly_M']"
   ]
  },
  {
   "cell_type": "code",
   "execution_count": 7,
   "id": "d0e44347",
   "metadata": {},
   "outputs": [
    {
     "data": {
      "image/png": "[encoded data removed]",
      "text/latex": [
       "$\\displaystyle \\lambda^{2} + \\lambda \\left(- m_{n_1} - m_{n_2}\\right) + m_{n_1} m_{n_2}$"
      ],
      "text/plain": [
       " 2                                           \n",
       "λ  + λ⋅(-m_{n_1} - m_{n_2}) + m_{n_1}⋅m_{n_2}"
      ]
     },
     "execution_count": 7,
     "metadata": {},
     "output_type": "execute_result"
    }
   ],
   "source": [
    "charpoly_relations['char_poly_diag']"
   ]
  },
  {
   "cell_type": "code",
   "execution_count": 8,
   "id": "2fde9f67",
   "metadata": {},
   "outputs": [
    {
     "data": {
      "text/html": [
       "<div>\n",
       "<style scoped>\n",
       "    .dataframe tbody tr th:only-of-type {\n",
       "        vertical-align: middle;\n",
       "    }\n",
       "\n",
       "    .dataframe tbody tr th {\n",
       "        vertical-align: top;\n",
       "    }\n",
       "\n",
       "    .dataframe thead th {\n",
       "        text-align: right;\n",
       "    }\n",
       "</style>\n",
       "<table border=\"1\" class=\"dataframe\">\n",
       "  <thead>\n",
       "    <tr style=\"text-align: right;\">\n",
       "      <th></th>\n",
       "      <th>Full Matrix</th>\n",
       "      <th>Diagonal Matrix</th>\n",
       "    </tr>\n",
       "  </thead>\n",
       "  <tbody>\n",
       "    <tr>\n",
       "      <th>$lambda^0$</th>\n",
       "      <td>$- m_{D 11}^{2}$</td>\n",
       "      <td>$m_{n_1} m_{n_2}$</td>\n",
       "    </tr>\n",
       "    <tr>\n",
       "      <th>$lambda^1$</th>\n",
       "      <td>$- M_{R 11}$</td>\n",
       "      <td>$- m_{n_1} - m_{n_2}$</td>\n",
       "    </tr>\n",
       "    <tr>\n",
       "      <th>$lambda^2$</th>\n",
       "      <td>$1$</td>\n",
       "      <td>$1$</td>\n",
       "    </tr>\n",
       "  </tbody>\n",
       "</table>\n",
       "</div>"
      ],
      "text/plain": [
       "                 Full Matrix        Diagonal Matrix\n",
       "$lambda^0$  $- m_{D 11}^{2}$      $m_{n_1} m_{n_2}$\n",
       "$lambda^1$      $- M_{R 11}$  $- m_{n_1} - m_{n_2}$\n",
       "$lambda^2$               $1$                    $1$"
      ]
     },
     "execution_count": 8,
     "metadata": {},
     "output_type": "execute_result"
    }
   ],
   "source": [
    "import pandas as pd\n",
    "from sympy import latex, sympify\n",
    "\n",
    "# Create a DataFrame to display the coefficients side by side\n",
    "charpoly_relations_latex = charpoly_relations.copy()\n",
    "charpoly_relations_latex['coefficients_full_matrix'] = {\n",
    "    f\"${key}$\": f\"${latex(value)}$\" for key, value in charpoly_relations_latex['coefficients_full_matrix'].items()\n",
    "}\n",
    "charpoly_relations_latex['coefficients_diagonal'] = {\n",
    "    f\"${key}$\": f\"${latex(value)}$\" for key, value in charpoly_relations_latex['coefficients_diagonal'].items()\n",
    "}\n",
    "df_coeffs = pd.DataFrame({\n",
    "    \"Full Matrix\": charpoly_relations_latex[\"coefficients_full_matrix\"],\n",
    "    \"Diagonal Matrix\": charpoly_relations_latex[\"coefficients_diagonal\"]\n",
    "})\n",
    "df_coeffs"
   ]
  },
  {
   "cell_type": "code",
   "execution_count": 9,
   "id": "a8d65a81",
   "metadata": {},
   "outputs": [
    {
     "name": "stdout",
     "output_type": "stream",
     "text": [
      "|            | Full Matrix      | Diagonal Matrix       |\n",
      "|:-----------|:-----------------|:----------------------|\n",
      "| $lambda^0$ | $- m_{D 11}^{2}$ | $m_{n_1} m_{n_2}$     |\n",
      "| $lambda^1$ | $- M_{R 11}$     | $- m_{n_1} - m_{n_2}$ |\n",
      "| $lambda^2$ | $1$              | $1$                   |\n"
     ]
    }
   ],
   "source": [
    "print(df_coeffs.to_markdown())"
   ]
  },
  {
   "cell_type": "markdown",
   "id": "28e3356c",
   "metadata": {},
   "source": [
    "|            | Full Matrix      | Diagonal Matrix       |\n",
    "|:-----------|:-----------------|:----------------------|\n",
    "| $\\lambda^0$ | $- m_{D 11}^{2}$ | $m_{n_1} m_{n_2}$     |\n",
    "| $\\lambda^1$ | $- M_{R 11}$     | $- m_{n_1} - m_{n_2}$ |\n",
    "| $\\lambda^2$ | $1$              | $1$                   |"
   ]
  },
  {
   "cell_type": "code",
   "execution_count": 10,
   "id": "a0a16194",
   "metadata": {},
   "outputs": [
    {
     "data": {
      "image/png": "[encoded data removed]",
      "text/latex": [
       "$\\displaystyle \\left[ - m_{D 11}^{2} - m_{n_1} m_{n_2}, \\  - M_{R 11} + m_{n_1} + m_{n_2}, \\  0\\right]$"
      ],
      "text/plain": [
       "⎡        2                                                  ⎤\n",
       "⎣- m_D_11  - m_{n_1}⋅m_{n_2}, -M_R_11 + m_{n_1} + m_{n_2}, 0⎦"
      ]
     },
     "execution_count": 10,
     "metadata": {},
     "output_type": "execute_result"
    }
   ],
   "source": [
    "# Automatically construct equations for each coefficient in the characteristic polynomial\n",
    "eqs_charpoly = [\n",
    "    charpoly_relations['coefficients_full_matrix'][key] - charpoly_relations['coefficients_diagonal'][key]\n",
    "    for key in charpoly_relations['coefficients_full_matrix']\n",
    "]\n",
    "eqs_charpoly"
   ]
  },
  {
   "cell_type": "code",
   "execution_count": 11,
   "id": "0bd43509",
   "metadata": {},
   "outputs": [
    {
     "data": {
      "image/png": "[encoded data removed]",
      "text/latex": [
       "$\\displaystyle \\left[ \\left\\{ M_{R 11} : m_{n_1} + m_{n_2}, \\  m_{D 11} : - i \\sqrt{m_{n_1}} \\sqrt{m_{n_2}}\\right\\}, \\  \\left\\{ M_{R 11} : m_{n_1} + m_{n_2}, \\  m_{D 11} : i \\sqrt{m_{n_1}} \\sqrt{m_{n_2}}\\right\\}\\right]$"
      ],
      "text/plain": [
       "⎡⎧                                        _________   _________⎫  ⎧            ↪\n",
       "⎢⎨M_R_11: m_{n_1} + m_{n_2}, m_D_11: -ⅈ⋅╲╱ m_{n_1} ⋅╲╱ m_{n_2} ⎬, ⎨M_R_11: m_{ ↪\n",
       "⎣⎩                                                             ⎭  ⎩            ↪\n",
       "\n",
       "↪                             _________   _________⎫⎤\n",
       "↪ n_1} + m_{n_2}, m_D_11: ⅈ⋅╲╱ m_{n_1} ⋅╲╱ m_{n_2} ⎬⎥\n",
       "↪                                                  ⎭⎦"
      ]
     },
     "execution_count": 11,
     "metadata": {},
     "output_type": "execute_result"
    }
   ],
   "source": [
    "seesaw_parameters_sols = solve(eqs_charpoly, \n",
    "      seesaw.m_D_sym[0,0], seesaw.M_R_sym[0,0], dict=True)\n",
    "seesaw_parameters_sols"
   ]
  },
  {
   "cell_type": "code",
   "execution_count": 12,
   "id": "81f5c652",
   "metadata": {},
   "outputs": [
    {
     "data": {
      "image/png": "[encoded data removed]",
      "text/latex": [
       "$\\displaystyle \\left\\{ m_{n_1} - m_{n_2} : D_{12}\\right\\}$"
      ],
      "text/plain": [
       "{m_{n_1} - m_{n_2}: D_{12}}"
      ]
     },
     "execution_count": 12,
     "metadata": {},
     "output_type": "execute_result"
    }
   ],
   "source": [
    "dummy_differences = seesaw.neutrino_mass_differences_dummyes()\n",
    "dummy_differences"
   ]
  },
  {
   "cell_type": "code",
   "execution_count": 14,
   "id": "25482145",
   "metadata": {},
   "outputs": [
    {
     "data": {
      "image/png": "[encoded data removed]",
      "text/latex": [
       "$\\displaystyle \\left[\\begin{matrix}\\frac{i \\sqrt{m_{n_2}} \\left(m_{n_1} + m_{n_2}\\right)}{\\sqrt{m_{n_1}^{3} - m_{n_1}^{2} m_{n_2} + 3 m_{n_1} m_{n_2}^{2} + m_{n_2}^{3}}} & - \\frac{i \\sqrt{m_{n_1}} \\left(m_{n_1} + m_{n_2}\\right)}{\\sqrt{m_{n_1}^{3} + 3 m_{n_1}^{2} m_{n_2} - m_{n_1} m_{n_2}^{2} + m_{n_2}^{3}}}\\\\- \\frac{\\sqrt{m_{n_1}} \\left(m_{n_1} - m_{n_2}\\right)}{\\sqrt{m_{n_1}^{3} - m_{n_1}^{2} m_{n_2} + 3 m_{n_1} m_{n_2}^{2} + m_{n_2}^{3}}} & - \\frac{\\sqrt{m_{n_2}} \\left(m_{n_1} - m_{n_2}\\right)}{\\sqrt{m_{n_1}^{3} + 3 m_{n_1}^{2} m_{n_2} - m_{n_1} m_{n_2}^{2} + m_{n_2}^{3}}}\\end{matrix}\\right]$"
      ],
      "text/plain": [
       "⎡                   _________                                                  ↪\n",
       "⎢               ⅈ⋅╲╱ m_{n_2} ⋅(m_{n_1} + m_{n_2})                              ↪\n",
       "⎢────────────────────────────────────────────────────────────────  ─────────── ↪\n",
       "⎢   _____________________________________________________________     ________ ↪\n",
       "⎢  ╱        3          2                            2          3     ╱         ↪\n",
       "⎢╲╱  m_{n_1}  - m_{n_1} ⋅m_{n_2} + 3⋅m_{n_1}⋅m_{n_2}  + m_{n_2}    ╲╱  m_{n_1} ↪\n",
       "⎢                                                                              ↪\n",
       "⎢                  _________                                                   ↪\n",
       "⎢               -╲╱ m_{n_1} ⋅(m_{n_1} - m_{n_2})                               ↪\n",
       "⎢────────────────────────────────────────────────────────────────  ─────────── ↪\n",
       "⎢   _____________________________________________________________     ________ ↪\n",
       "⎢  ╱        3          2                            2          3     ╱         ↪\n",
       "⎣╲╱  m_{n_1}  - m_{n_1} ⋅m_{n_2} + 3⋅m_{n_1}⋅m_{n_2}  + m_{n_2}    ╲╱  m_{n_1} ↪\n",
       "\n",
       "↪         _________                                    ⎤\n",
       "↪    -ⅈ⋅╲╱ m_{n_1} ⋅(m_{n_1} + m_{n_2})                ⎥\n",
       "↪ ─────────────────────────────────────────────────────⎥\n",
       "↪ _____________________________________________________⎥\n",
       "↪ 3            2                          2          3 ⎥\n",
       "↪   + 3⋅m_{n_1} ⋅m_{n_2} - m_{n_1}⋅m_{n_2}  + m_{n_2}  ⎥\n",
       "↪                                                      ⎥\n",
       "↪        _________                                     ⎥\n",
       "↪     -╲╱ m_{n_2} ⋅(m_{n_1} - m_{n_2})                 ⎥\n",
       "↪ ─────────────────────────────────────────────────────⎥\n",
       "↪ _____________________________________________________⎥\n",
       "↪ 3            2                          2          3 ⎥\n",
       "↪   + 3⋅m_{n_1} ⋅m_{n_2} - m_{n_1}⋅m_{n_2}  + m_{n_2}  ⎦"
      ]
     },
     "execution_count": 14,
     "metadata": {},
     "output_type": "execute_result"
    }
   ],
   "source": [
    "\n",
    "R = seesaw.right_eigenvectors(substitutions=seesaw_parameters_sols[1]).applyfunc(\n",
    "    lambda x:x.factor().subs(\n",
    "        dummy_differences\n",
    "    ).simplify().subs(\n",
    "        {value:key for key, value in dummy_differences.items()}\n",
    "    ).factor()\n",
    ")\n",
    "R"
   ]
  },
  {
   "cell_type": "code",
   "execution_count": 16,
   "id": "46f494ae",
   "metadata": {},
   "outputs": [
    {
     "data": {
      "image/png": "[encoded data removed]",
      "text/latex": [
       "$\\displaystyle - \\frac{m_{D 11}^{2}}{M_{R 11}}$"
      ],
      "text/plain": [
       "       2 \n",
       "-m_D_11  \n",
       "─────────\n",
       " M_R_11  "
      ]
     },
     "execution_count": 16,
     "metadata": {},
     "output_type": "execute_result"
    }
   ],
   "source": [
    "seesaw.light_mass_matrix_symbolic()[0]"
   ]
  },
  {
   "cell_type": "code",
   "execution_count": 36,
   "id": "08dc8f16",
   "metadata": {},
   "outputs": [],
   "source": [
    "from sympy import exp"
   ]
  },
  {
   "cell_type": "code",
   "execution_count": 46,
   "id": "0fdc5c9b",
   "metadata": {},
   "outputs": [
    {
     "data": {
      "image/png": "[encoded data removed]",
      "text/latex": [
       "$\\displaystyle \\left( \\left[\\begin{matrix}\\cos{\\left(\\theta \\right)} & - \\sin{\\left(\\theta \\right)}\\\\\\sin{\\left(\\theta \\right)} & \\cos{\\left(\\theta \\right)}\\end{matrix}\\right], \\  \\left[\\begin{matrix}0 & e^{- \\frac{i \\phi}{2}}\\\\e^{\\frac{i \\phi}{2}} & 0\\end{matrix}\\right], \\  \\left[\\begin{matrix}\\cos{\\left(\\theta \\right)} & e^{- i \\phi} \\sin{\\left(\\theta \\right)}\\\\- e^{i \\phi} \\sin{\\left(\\theta \\right)} & \\cos{\\left(\\theta \\right)}\\end{matrix}\\right]\\right)$"
      ],
      "text/plain": [
       "⎛                   ⎡       -ⅈ⋅φ ⎤                              ⎞\n",
       "⎜                   ⎢       ─────⎥                              ⎟\n",
       "⎜                   ⎢         2  ⎥  ⎡               -ⅈ⋅φ       ⎤⎟\n",
       "⎜⎡cos(θ)  -sin(θ)⎤  ⎢ 0    ℯ     ⎥  ⎢   cos(θ)     ℯ    ⋅sin(θ)⎥⎟\n",
       "⎜⎢               ⎥, ⎢            ⎥, ⎢                          ⎥⎟\n",
       "⎜⎣sin(θ)  cos(θ) ⎦  ⎢ ⅈ⋅φ        ⎥  ⎢  ⅈ⋅φ                     ⎥⎟\n",
       "⎜                   ⎢ ───        ⎥  ⎣-ℯ   ⋅sin(θ)     cos(θ)   ⎦⎟\n",
       "⎜                   ⎢  2         ⎥                              ⎟\n",
       "⎝                   ⎣ℯ       0   ⎦                              ⎠"
      ]
     },
     "execution_count": 46,
     "metadata": {},
     "output_type": "execute_result"
    }
   ],
   "source": [
    "th = symbols('theta', real=True)\n",
    "phi = symbols('phi', real=True)\n",
    "Rth = symbolic_rotation_matrix(dim=2, axis=1, angle=th)\n",
    "P = Matrix(\n",
    "    [\n",
    "        [0, exp(-I*phi/2)],\n",
    "        [exp(I*phi/2), 0]\n",
    "    ]\n",
    ")\n",
    "Omega = Dagger(P)*Rth*P\n",
    "Rth, P, Omega"
   ]
  },
  {
   "cell_type": "code",
   "execution_count": 77,
   "id": "3c844091",
   "metadata": {},
   "outputs": [
    {
     "data": {
      "image/png": "[encoded data removed]",
      "text/latex": [
       "$\\displaystyle \\left[\\begin{matrix}0 & i \\sqrt{m_{n_1}} \\sqrt{m_{n_2}}\\\\i \\sqrt{m_{n_1}} \\sqrt{m_{n_2}} & m_{n_1} + m_{n_2}\\end{matrix}\\right]$"
      ],
      "text/plain": [
       "⎡                               _________   _________⎤\n",
       "⎢            0              ⅈ⋅╲╱ m_{n_1} ⋅╲╱ m_{n_2} ⎥\n",
       "⎢                                                    ⎥\n",
       "⎢    _________   _________                           ⎥\n",
       "⎣ⅈ⋅╲╱ m_{n_1} ⋅╲╱ m_{n_2}       m_{n_1} + m_{n_2}    ⎦"
      ]
     },
     "execution_count": 77,
     "metadata": {},
     "output_type": "execute_result"
    }
   ],
   "source": [
    "Mnu2x2_masses = seesaw.full_mass_matrix_symbolic().subs(seesaw_parameters_sols[1])\n",
    "Mnu2x2_masses"
   ]
  },
  {
   "cell_type": "code",
   "execution_count": 54,
   "id": "5af45061",
   "metadata": {},
   "outputs": [
    {
     "data": {
      "image/png": "[encoded data removed]",
      "text/latex": [
       "$\\displaystyle \\left[\\begin{matrix}- \\frac{M_{R 11} \\cos{\\left(2 \\theta \\right)}}{2} + \\frac{M_{R 11}}{2} + m_{D 11} \\sin{\\left(2 \\theta \\right)} & \\frac{M_{R 11} \\sin{\\left(2 \\theta \\right)}}{2} + m_{D 11} \\cos{\\left(2 \\theta \\right)}\\\\\\frac{M_{R 11} \\sin{\\left(2 \\theta \\right)}}{2} + m_{D 11} \\cos{\\left(2 \\theta \\right)} & \\frac{M_{R 11} \\cos{\\left(2 \\theta \\right)}}{2} + \\frac{M_{R 11}}{2} - m_{D 11} \\sin{\\left(2 \\theta \\right)}\\end{matrix}\\right]$"
      ],
      "text/plain": [
       "⎡  M_R_11⋅cos(2⋅θ)   M_R_11                        M_R_11⋅sin(2⋅θ)             ↪\n",
       "⎢- ─────────────── + ────── + m_D_11⋅sin(2⋅θ)      ─────────────── + m_D_11⋅co ↪\n",
       "⎢         2            2                                  2                    ↪\n",
       "⎢                                                                              ↪\n",
       "⎢     M_R_11⋅sin(2⋅θ)                          M_R_11⋅cos(2⋅θ)   M_R_11        ↪\n",
       "⎢     ─────────────── + m_D_11⋅cos(2⋅θ)        ─────────────── + ────── - m_D_ ↪\n",
       "⎣            2                                        2            2           ↪\n",
       "\n",
       "↪            ⎤\n",
       "↪ s(2⋅θ)     ⎥\n",
       "↪            ⎥\n",
       "↪            ⎥\n",
       "↪            ⎥\n",
       "↪ 11⋅sin(2⋅θ)⎥\n",
       "↪            ⎦"
      ]
     },
     "execution_count": 54,
     "metadata": {},
     "output_type": "execute_result"
    }
   ],
   "source": [
    "Mnu2x2_diag =  (Rth.T*Mnu2x2*Rth).applyfunc( lambda x:x.trigsimp())\n",
    "Mnu2x2_diag"
   ]
  },
  {
   "cell_type": "code",
   "execution_count": 56,
   "id": "ccc35757",
   "metadata": {},
   "outputs": [
    {
     "data": {
      "image/png": "[encoded data removed]",
      "text/latex": [
       "$\\displaystyle \\left\\{ \\sin{\\left(2 \\theta \\right)} : - \\frac{2 m_{D 11} \\cos{\\left(2 \\theta \\right)}}{M_{R 11}}\\right\\}$"
      ],
      "text/plain": [
       "⎧          -2⋅m_D_11⋅cos(2⋅θ) ⎫\n",
       "⎨sin(2⋅θ): ───────────────────⎬\n",
       "⎩                M_R_11       ⎭"
      ]
     },
     "execution_count": 56,
     "metadata": {},
     "output_type": "execute_result"
    }
   ],
   "source": [
    "sin2th_sol = solve(Mnu2x2_diag[0, 1], sin(2*th), dict=True)[0]\n",
    "sin2th_sol"
   ]
  },
  {
   "cell_type": "code",
   "execution_count": 57,
   "id": "285fa6bf",
   "metadata": {},
   "outputs": [
    {
     "data": {
      "image/png": "[encoded data removed]",
      "text/latex": [
       "$\\displaystyle - \\frac{2 m_{D 11}}{M_{R 11}}$"
      ],
      "text/plain": [
       "-2⋅m_D_11 \n",
       "──────────\n",
       "  M_R_11  "
      ]
     },
     "execution_count": 57,
     "metadata": {},
     "output_type": "execute_result"
    }
   ],
   "source": [
    "tan2th = sin2th_sol[sin(2*th)]/cos(2*th)\n",
    "tan2th"
   ]
  },
  {
   "cell_type": "code",
   "execution_count": 58,
   "id": "6276eb4a",
   "metadata": {},
   "outputs": [
    {
     "data": {
      "image/png": "[encoded data removed]",
      "text/latex": [
       "$\\displaystyle \\left( \\frac{M_{R 11} - \\sqrt{M_{R 11}^{2} + 4 m_{D 11}^{2}}}{\\sqrt{4 m_{D 11}^{2} + \\left(M_{R 11} - \\sqrt{M_{R 11}^{2} + 4 m_{D 11}^{2}}\\right)^{2}}}, \\  \\frac{2 m_{D 11}}{\\sqrt{4 m_{D 11}^{2} + \\left(M_{R 11} - \\sqrt{M_{R 11}^{2} + 4 m_{D 11}^{2}}\\right)^{2}}}\\right)$"
      ],
      "text/plain": [
       "⎛                       _____________________                                  ↪\n",
       "⎜                      ╱       2           2                                   ↪\n",
       "⎜           M_R_11 - ╲╱  M_R_11  + 4⋅m_D_11                                    ↪\n",
       "⎜───────────────────────────────────────────────────────, ──────────────────── ↪\n",
       "⎜     __________________________________________________       _______________ ↪\n",
       "⎜    ╱                                                2       ╱                ↪\n",
       "⎜   ╱              ⎛            _____________________⎞       ╱              ⎛  ↪\n",
       "⎜  ╱           2   ⎜           ╱       2           2 ⎟      ╱           2   ⎜  ↪\n",
       "⎝╲╱    4⋅m_D_11  + ⎝M_R_11 - ╲╱  M_R_11  + 4⋅m_D_11  ⎠    ╲╱    4⋅m_D_11  + ⎝M ↪\n",
       "\n",
       "↪                                    ⎞\n",
       "↪                                    ⎟\n",
       "↪    2⋅m_D_11                        ⎟\n",
       "↪ ───────────────────────────────────⎟\n",
       "↪ ___________________________________⎟\n",
       "↪                                  2 ⎟\n",
       "↪            _____________________⎞  ⎟\n",
       "↪           ╱       2           2 ⎟  ⎟\n",
       "↪ _R_11 - ╲╱  M_R_11  + 4⋅m_D_11  ⎠  ⎠"
      ]
     },
     "execution_count": 58,
     "metadata": {},
     "output_type": "execute_result"
    }
   ],
   "source": [
    "sin2th, cos2th = sin_cos_from_tan_fraction(tan2th)\n",
    "#display(sin2th, cos2th)\n",
    "tanth = ((1 - cos2th)/sin2th).factor()\n",
    "sinth, costh = sin_cos_from_tan_fraction(tanth)\n",
    "sinth, costh"
   ]
  },
  {
   "cell_type": "code",
   "execution_count": 61,
   "id": "58fac497",
   "metadata": {},
   "outputs": [
    {
     "data": {
      "image/png": "[encoded data removed]",
      "text/latex": [
       "$\\displaystyle 1$"
      ],
      "text/plain": [
       "1"
      ]
     },
     "execution_count": 61,
     "metadata": {},
     "output_type": "execute_result"
    }
   ],
   "source": [
    "(sinth**2 + costh**2).factor()"
   ]
  },
  {
   "cell_type": "code",
   "execution_count": 70,
   "id": "b1b6b433",
   "metadata": {},
   "outputs": [
    {
     "data": {
      "image/png": "[encoded data removed]",
      "text/latex": [
       "$\\displaystyle \\frac{\\sqrt{m_{n_1}}}{\\sqrt{m_{n_1} - m_{n_2}}}$"
      ],
      "text/plain": [
       "       _________     \n",
       "     ╲╱ m_{n_1}      \n",
       "─────────────────────\n",
       "  ___________________\n",
       "╲╱ m_{n_1} - m_{n_2} "
      ]
     },
     "execution_count": 70,
     "metadata": {},
     "output_type": "execute_result"
    }
   ],
   "source": [
    "sinth.subs(seesaw_parameters_sols[1]).factor(deep=True).subs(\n",
    "        dummy_differences\n",
    "    ).simplify().subs(\n",
    "        {value:key for key, value in dummy_differences.items()}\n",
    "    ).factor()\n"
   ]
  },
  {
   "cell_type": "code",
   "execution_count": 72,
   "id": "c2b2055e",
   "metadata": {},
   "outputs": [
    {
     "data": {
      "image/png": "[encoded data removed]",
      "text/latex": [
       "$\\displaystyle \\frac{i \\sqrt{m_{n_2}}}{\\sqrt{m_{n_1} - m_{n_2}}}$"
      ],
      "text/plain": [
       "        _________    \n",
       "    ⅈ⋅╲╱ m_{n_2}     \n",
       "─────────────────────\n",
       "  ___________________\n",
       "╲╱ m_{n_1} - m_{n_2} "
      ]
     },
     "execution_count": 72,
     "metadata": {},
     "output_type": "execute_result"
    }
   ],
   "source": [
    "costh.subs(seesaw_parameters_sols[1]).factor(deep=True).subs(\n",
    "        dummy_differences\n",
    "    ).simplify().subs(\n",
    "        {value:key for key, value in dummy_differences.items()}\n",
    "    ).factor()"
   ]
  },
  {
   "cell_type": "code",
   "execution_count": 60,
   "id": "9477b732",
   "metadata": {},
   "outputs": [
    {
     "data": {
      "image/png": "[encoded data removed]",
      "text/latex": [
       "$\\displaystyle \\left[\\begin{matrix}\\frac{2 m_{D 11}}{\\sqrt{4 m_{D 11}^{2} + \\left(M_{R 11} - \\sqrt{M_{R 11}^{2} + 4 m_{D 11}^{2}}\\right)^{2}}} & - \\frac{M_{R 11} - \\sqrt{M_{R 11}^{2} + 4 m_{D 11}^{2}}}{\\sqrt{4 m_{D 11}^{2} + \\left(M_{R 11} - \\sqrt{M_{R 11}^{2} + 4 m_{D 11}^{2}}\\right)^{2}}}\\\\\\frac{M_{R 11} - \\sqrt{M_{R 11}^{2} + 4 m_{D 11}^{2}}}{\\sqrt{4 m_{D 11}^{2} + \\left(M_{R 11} - \\sqrt{M_{R 11}^{2} + 4 m_{D 11}^{2}}\\right)^{2}}} & \\frac{2 m_{D 11}}{\\sqrt{4 m_{D 11}^{2} + \\left(M_{R 11} - \\sqrt{M_{R 11}^{2} + 4 m_{D 11}^{2}}\\right)^{2}}}\\end{matrix}\\right]$"
      ],
      "text/plain": [
       "⎡                                                                   ⎛          ↪\n",
       "⎢                                                                   ⎜          ↪\n",
       "⎢                       2⋅m_D_11                                   -⎝M_R_11 -  ↪\n",
       "⎢───────────────────────────────────────────────────────  ──────────────────── ↪\n",
       "⎢     __________________________________________________       _______________ ↪\n",
       "⎢    ╱                                                2       ╱                ↪\n",
       "⎢   ╱              ⎛            _____________________⎞       ╱              ⎛  ↪\n",
       "⎢  ╱           2   ⎜           ╱       2           2 ⎟      ╱           2   ⎜  ↪\n",
       "⎢╲╱    4⋅m_D_11  + ⎝M_R_11 - ╲╱  M_R_11  + 4⋅m_D_11  ⎠    ╲╱    4⋅m_D_11  + ⎝M ↪\n",
       "⎢                                                                              ↪\n",
       "⎢                       _____________________                                  ↪\n",
       "⎢                      ╱       2           2                                   ↪\n",
       "⎢           M_R_11 - ╲╱  M_R_11  + 4⋅m_D_11                                    ↪\n",
       "⎢───────────────────────────────────────────────────────  ──────────────────── ↪\n",
       "⎢     __________________________________________________       _______________ ↪\n",
       "⎢    ╱                                                2       ╱                ↪\n",
       "⎢   ╱              ⎛            _____________________⎞       ╱              ⎛  ↪\n",
       "⎢  ╱           2   ⎜           ╱       2           2 ⎟      ╱           2   ⎜  ↪\n",
       "⎣╲╱    4⋅m_D_11  + ⎝M_R_11 - ╲╱  M_R_11  + 4⋅m_D_11  ⎠    ╲╱    4⋅m_D_11  + ⎝M ↪\n",
       "\n",
       "↪    _____________________⎞          ⎤\n",
       "↪   ╱       2           2 ⎟          ⎥\n",
       "↪ ╲╱  M_R_11  + 4⋅m_D_11  ⎠          ⎥\n",
       "↪ ───────────────────────────────────⎥\n",
       "↪ ___________________________________⎥\n",
       "↪                                  2 ⎥\n",
       "↪            _____________________⎞  ⎥\n",
       "↪           ╱       2           2 ⎟  ⎥\n",
       "↪ _R_11 - ╲╱  M_R_11  + 4⋅m_D_11  ⎠  ⎥\n",
       "↪                                    ⎥\n",
       "↪                                    ⎥\n",
       "↪                                    ⎥\n",
       "↪    2⋅m_D_11                        ⎥\n",
       "↪ ───────────────────────────────────⎥\n",
       "↪ ___________________________________⎥\n",
       "↪                                  2 ⎥\n",
       "↪            _____________________⎞  ⎥\n",
       "↪           ╱       2           2 ⎟  ⎥\n",
       "↪ _R_11 - ╲╱  M_R_11  + 4⋅m_D_11  ⎠  ⎦"
      ]
     },
     "execution_count": 60,
     "metadata": {},
     "output_type": "execute_result"
    }
   ],
   "source": [
    "Rth_seesaw = Rth.subs(\n",
    "    {\n",
    "        sin(th):sinth,\n",
    "        cos(th):costh\n",
    "    }\n",
    ")\n",
    "Rth_seesaw"
   ]
  },
  {
   "cell_type": "code",
   "execution_count": 75,
   "id": "732d8a00",
   "metadata": {},
   "outputs": [
    {
     "data": {
      "image/png": "[encoded data removed]",
      "text/latex": [
       "$\\displaystyle \\left[\\begin{matrix}\\frac{i \\sqrt{m_{n_2}}}{\\sqrt{m_{n_1} - m_{n_2}}} & - \\frac{\\sqrt{m_{n_1}}}{\\sqrt{m_{n_1} - m_{n_2}}}\\\\\\frac{\\sqrt{m_{n_1}}}{\\sqrt{m_{n_1} - m_{n_2}}} & \\frac{i \\sqrt{m_{n_2}}}{\\sqrt{m_{n_1} - m_{n_2}}}\\end{matrix}\\right]$"
      ],
      "text/plain": [
       "⎡        _________             _________     ⎤\n",
       "⎢    ⅈ⋅╲╱ m_{n_2}           -╲╱ m_{n_1}      ⎥\n",
       "⎢─────────────────────  ─────────────────────⎥\n",
       "⎢  ___________________    ___________________⎥\n",
       "⎢╲╱ m_{n_1} - m_{n_2}   ╲╱ m_{n_1} - m_{n_2} ⎥\n",
       "⎢                                            ⎥\n",
       "⎢       _________               _________    ⎥\n",
       "⎢     ╲╱ m_{n_1}            ⅈ⋅╲╱ m_{n_2}     ⎥\n",
       "⎢─────────────────────  ─────────────────────⎥\n",
       "⎢  ___________________    ___________________⎥\n",
       "⎣╲╱ m_{n_1} - m_{n_2}   ╲╱ m_{n_1} - m_{n_2} ⎦"
      ]
     },
     "execution_count": 75,
     "metadata": {},
     "output_type": "execute_result"
    }
   ],
   "source": [
    "Rth_seesaw2 = Rth_seesaw.subs(seesaw_parameters_sols[1]).applyfunc(lambda x: x.factor(deep=True).subs(\n",
    "        dummy_differences\n",
    "    ).simplify().subs(\n",
    "        {value:key for key, value in dummy_differences.items()}\n",
    "    ).factor())\n",
    "Rth_seesaw2\n"
   ]
  },
  {
   "cell_type": "code",
   "execution_count": 93,
   "id": "4549624b",
   "metadata": {},
   "outputs": [
    {
     "data": {
      "image/png": "[encoded data removed]",
      "text/latex": [
       "$\\displaystyle \\left[\\begin{matrix}\\frac{i \\sqrt{m_{n_2}}}{\\sqrt{m_{n_1} - m_{n_2}}} & - \\frac{\\sqrt{m_{n_1}}}{\\sqrt{m_{n_1} - m_{n_2}}}\\\\\\frac{\\sqrt{m_{n_1}}}{\\sqrt{m_{n_1} - m_{n_2}}} & \\frac{i \\sqrt{m_{n_2}}}{\\sqrt{m_{n_1} - m_{n_2}}}\\end{matrix}\\right]$"
      ],
      "text/plain": [
       "⎡        _________             _________     ⎤\n",
       "⎢    ⅈ⋅╲╱ m_{n_2}           -╲╱ m_{n_1}      ⎥\n",
       "⎢─────────────────────  ─────────────────────⎥\n",
       "⎢  ___________________    ___________________⎥\n",
       "⎢╲╱ m_{n_1} - m_{n_2}   ╲╱ m_{n_1} - m_{n_2} ⎥\n",
       "⎢                                            ⎥\n",
       "⎢       _________               _________    ⎥\n",
       "⎢     ╲╱ m_{n_1}            ⅈ⋅╲╱ m_{n_2}     ⎥\n",
       "⎢─────────────────────  ─────────────────────⎥\n",
       "⎢  ___________________    ___________________⎥\n",
       "⎣╲╱ m_{n_1} - m_{n_2}   ╲╱ m_{n_1} - m_{n_2} ⎦"
      ]
     },
     "execution_count": 93,
     "metadata": {},
     "output_type": "execute_result"
    }
   ],
   "source": [
    "Rth_seesaw2.applyfunc(lambda x: x.subs(\n",
    "        dummy_differences\n",
    "    ).simplify().subs(\n",
    "        {value:key for key, value in dummy_differences.items()}\n",
    "    ).factor())"
   ]
  },
  {
   "cell_type": "code",
   "execution_count": 96,
   "id": "feb2a238",
   "metadata": {},
   "outputs": [
    {
     "data": {
      "image/png": "[encoded data removed]",
      "text/latex": [
       "$\\displaystyle \\left[\\begin{matrix}\\frac{m_{n_1}}{2 m_{n_2}} + 1 & \\frac{i m_{n_1}^{\\frac{3}{2}}}{2 m_{n_2}^{\\frac{3}{2}}} + \\frac{i \\sqrt{m_{n_1}}}{\\sqrt{m_{n_2}}}\\\\- \\frac{i m_{n_1}^{\\frac{3}{2}}}{2 m_{n_2}^{\\frac{3}{2}}} - \\frac{i \\sqrt{m_{n_1}}}{\\sqrt{m_{n_2}}} & \\frac{m_{n_1}}{2 m_{n_2}} + 1\\end{matrix}\\right]$"
      ],
      "text/plain": [
       "⎡                                         3/2       _________⎤\n",
       "⎢         m_{n_1}                ⅈ⋅m_{n_1}      ⅈ⋅╲╱ m_{n_1} ⎥\n",
       "⎢        ───────── + 1           ──────────── + ─────────────⎥\n",
       "⎢        2⋅m_{n_2}                        3/2      _________ ⎥\n",
       "⎢                                2⋅m_{n_2}       ╲╱ m_{n_2}  ⎥\n",
       "⎢                                                            ⎥\n",
       "⎢           3/2       _________                              ⎥\n",
       "⎢  ⅈ⋅m_{n_1}      ⅈ⋅╲╱ m_{n_1}           m_{n_1}             ⎥\n",
       "⎢- ──────────── - ─────────────         ───────── + 1        ⎥\n",
       "⎢           3/2      _________          2⋅m_{n_2}            ⎥\n",
       "⎣  2⋅m_{n_2}       ╲╱ m_{n_2}                                ⎦"
      ]
     },
     "execution_count": 96,
     "metadata": {},
     "output_type": "execute_result"
    }
   ],
   "source": [
    "epsilon = symbols('epsilon', positive=True)\n",
    "mn = seesaw.masses\n",
    "Rth_seesaw2_approx = Rth_seesaw2.applyfunc(\n",
    "    lambda x:x.subs(mn[0], epsilon*mn[1]).series(epsilon, 0, 2).removeO().subs(epsilon, mn[0]/mn[1])\n",
    ")\n",
    "Rth_seesaw2_approx"
   ]
  },
  {
   "cell_type": "code",
   "execution_count": 98,
   "id": "e87a485a",
   "metadata": {},
   "outputs": [
    {
     "data": {
      "image/png": "[encoded data removed]",
      "text/latex": [
       "$\\displaystyle \\left[\\begin{matrix}- \\frac{m_{n_1} \\left(m_{n_1} - m_{n_2}\\right) \\left(m_{n_1} + 2 m_{n_2}\\right)^{2}}{4 m_{n_2}^{3}} & 0 i\\\\0 & - \\frac{\\left(m_{n_1} - m_{n_2}\\right) \\left(m_{n_1} + 2 m_{n_2}\\right)^{2}}{4 m_{n_2}^{2}}\\end{matrix}\\right]$"
      ],
      "text/plain": [
       "⎡                                                  2                           ↪\n",
       "⎢-m_{n_1}⋅(m_{n_1} - m_{n_2})⋅(m_{n_1} + 2⋅m_{n_2})                            ↪\n",
       "⎢────────────────────────────────────────────────────                      0⋅ⅈ ↪\n",
       "⎢                              3                                               ↪\n",
       "⎢                     4⋅m_{n_2}                                                ↪\n",
       "⎢                                                                              ↪\n",
       "⎢                                                                              ↪\n",
       "⎢                                                      -(m_{n_1} - m_{n_2})⋅(m ↪\n",
       "⎢                         0                            ─────────────────────── ↪\n",
       "⎢                                                                              ↪\n",
       "⎣                                                                       4⋅m_{n ↪\n",
       "\n",
       "↪                      ⎤\n",
       "↪                      ⎥\n",
       "↪                      ⎥\n",
       "↪                      ⎥\n",
       "↪                      ⎥\n",
       "↪                      ⎥\n",
       "↪                    2 ⎥\n",
       "↪ _{n_1} + 2⋅m_{n_2})  ⎥\n",
       "↪ ─────────────────────⎥\n",
       "↪    2                 ⎥\n",
       "↪ _2}                  ⎦"
      ]
     },
     "execution_count": 98,
     "metadata": {},
     "output_type": "execute_result"
    }
   ],
   "source": [
    "(Rth_seesaw2_approx.T*Mnu2x2_masses*Rth_seesaw2_approx).applyfunc(factor)"
   ]
  },
  {
   "cell_type": "code",
   "execution_count": 82,
   "id": "5271051a",
   "metadata": {},
   "outputs": [
    {
     "data": {
      "image/png": "[encoded data removed]",
      "text/latex": [
       "$\\displaystyle \\left[\\begin{matrix}1 & 0\\\\0 & 1\\end{matrix}\\right]$"
      ],
      "text/plain": [
       "⎡1  0⎤\n",
       "⎢    ⎥\n",
       "⎣0  1⎦"
      ]
     },
     "execution_count": 82,
     "metadata": {},
     "output_type": "execute_result"
    }
   ],
   "source": [
    "(Rth_seesaw2.T*Rth_seesaw2).applyfunc(lambda x: x.factor())"
   ]
  },
  {
   "cell_type": "code",
   "execution_count": 85,
   "id": "eb88c199",
   "metadata": {},
   "outputs": [
    {
     "data": {
      "image/png": "[encoded data removed]",
      "text/latex": [
       "$\\displaystyle 1$"
      ],
      "text/plain": [
       "1"
      ]
     },
     "execution_count": 85,
     "metadata": {},
     "output_type": "execute_result"
    }
   ],
   "source": [
    "Rth_seesaw2.det()"
   ]
  },
  {
   "cell_type": "code",
   "execution_count": 90,
   "id": "34d2f21f",
   "metadata": {},
   "outputs": [
    {
     "data": {
      "image/png": "[encoded data removed]",
      "text/latex": [
       "$\\displaystyle 1$"
      ],
      "text/plain": [
       "1"
      ]
     },
     "execution_count": 90,
     "metadata": {},
     "output_type": "execute_result"
    }
   ],
   "source": [
    "(Rth_seesaw2.col(0).T*Rth_seesaw2.col(0))[0].factor()"
   ]
  },
  {
   "cell_type": "code",
   "execution_count": 63,
   "id": "381d8990",
   "metadata": {},
   "outputs": [
    {
     "data": {
      "image/png": "[encoded data removed]",
      "text/latex": [
       "$\\displaystyle \\left[\\begin{matrix}\\frac{M_{R 11} - \\sqrt{M_{R 11}^{2} + 4 m_{D 11}^{2}}}{2} & 0\\\\0 & \\frac{2 m_{D 11}^{2} \\sqrt{M_{R 11}^{2} + 4 m_{D 11}^{2}}}{M_{R 11}^{2} - M_{R 11} \\sqrt{M_{R 11}^{2} + 4 m_{D 11}^{2}} + 4 m_{D 11}^{2}}\\end{matrix}\\right]$"
      ],
      "text/plain": [
       "⎡            _____________________                                             ↪\n",
       "⎢           ╱       2           2                                              ↪\n",
       "⎢M_R_11 - ╲╱  M_R_11  + 4⋅m_D_11                                               ↪\n",
       "⎢─────────────────────────────────                            0                ↪\n",
       "⎢                2                                                             ↪\n",
       "⎢                                                                              ↪\n",
       "⎢                                                         ____________________ ↪\n",
       "⎢                                                    2   ╱       2           2 ↪\n",
       "⎢                                            2⋅m_D_11 ⋅╲╱  M_R_11  + 4⋅m_D_11  ↪\n",
       "⎢                0                  ────────────────────────────────────────── ↪\n",
       "⎢                                                       _____________________  ↪\n",
       "⎢                                         2            ╱       2           2   ↪\n",
       "⎣                                   M_R_11  - M_R_11⋅╲╱  M_R_11  + 4⋅m_D_11    ↪\n",
       "\n",
       "↪            ⎤\n",
       "↪            ⎥\n",
       "↪            ⎥\n",
       "↪            ⎥\n",
       "↪            ⎥\n",
       "↪            ⎥\n",
       "↪ _          ⎥\n",
       "↪            ⎥\n",
       "↪            ⎥\n",
       "↪ ───────────⎥\n",
       "↪            ⎥\n",
       "↪           2⎥\n",
       "↪ + 4⋅m_D_11 ⎦"
      ]
     },
     "execution_count": 63,
     "metadata": {},
     "output_type": "execute_result"
    }
   ],
   "source": [
    "Mnu2x2_masses = (Rth_seesaw.T*Mnu2x2*Rth_seesaw).applyfunc(lambda x:x.factor())\n",
    "Mnu2x2_masses"
   ]
  },
  {
   "cell_type": "code",
   "execution_count": 78,
   "id": "7ca284f4",
   "metadata": {},
   "outputs": [
    {
     "data": {
      "image/png": "[encoded data removed]",
      "text/latex": [
       "$\\displaystyle \\left[\\begin{matrix}m_{n_1} & 0\\\\0 & m_{n_2}\\end{matrix}\\right]$"
      ],
      "text/plain": [
       "⎡m_{n_1}     0   ⎤\n",
       "⎢                ⎥\n",
       "⎣   0     m_{n_2}⎦"
      ]
     },
     "execution_count": 78,
     "metadata": {},
     "output_type": "execute_result"
    }
   ],
   "source": [
    "Mnu2x2_masses2 = (Rth_seesaw2.T*Mnu2x2_masses*Rth_seesaw2).applyfunc(lambda x:x.factor())\n",
    "Mnu2x2_masses2"
   ]
  },
  {
   "cell_type": "code",
   "execution_count": 67,
   "id": "fd66c251",
   "metadata": {},
   "outputs": [
    {
     "data": {
      "image/png": "[encoded data removed]",
      "text/latex": [
       "$\\displaystyle \\left[\\begin{matrix}m_{n_1} & 0\\\\0 & m_{n_2}\\end{matrix}\\right]$"
      ],
      "text/plain": [
       "⎡m_{n_1}     0   ⎤\n",
       "⎢                ⎥\n",
       "⎣   0     m_{n_2}⎦"
      ]
     },
     "execution_count": 67,
     "metadata": {},
     "output_type": "execute_result"
    }
   ],
   "source": [
    "Mnu2x2_masses.subs(seesaw_parameters_sols[1]).applyfunc(\n",
    "    lambda x: x.factor(deep=True).subs(\n",
    "        dummy_differences\n",
    "    ).simplify().subs(\n",
    "        {value:key for key, value in dummy_differences.items()}\n",
    "    ).factor()\n",
    ")"
   ]
  },
  {
   "cell_type": "code",
   "execution_count": null,
   "id": "9888d830",
   "metadata": {},
   "outputs": [],
   "source": []
  }
 ],
 "metadata": {
  "kernelspec": {
   "display_name": ".venv",
   "language": "python",
   "name": "python3"
  },
  "language_info": {
   "codemirror_mode": {
    "name": "ipython",
    "version": 3
   },
   "file_extension": ".py",
   "mimetype": "text/x-python",
   "name": "python",
   "nbconvert_exporter": "python",
   "pygments_lexer": "ipython3",
   "version": "3.12.3"
  }
 },
 "nbformat": 4,
 "nbformat_minor": 5
}
